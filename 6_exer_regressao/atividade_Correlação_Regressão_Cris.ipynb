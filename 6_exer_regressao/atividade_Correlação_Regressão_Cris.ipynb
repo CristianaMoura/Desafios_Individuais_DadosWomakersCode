{
  "cells": [
    {
      "cell_type": "markdown",
      "metadata": {},
      "source": [
        "Atividade Individual\n",
        "\n",
        "Correlação e Regressão Simples/Multivariada"
      ]
    },
    {
      "cell_type": "markdown",
      "metadata": {},
      "source": [
        "### 📚 Importação de Bibliotecas"
      ]
    },
    {
      "cell_type": "code",
      "execution_count": null,
      "metadata": {
        "id": "wfNrIg4NYPYy"
      },
      "outputs": [],
      "source": [
        "\n",
        "# Manipulação e análise de dados\n",
        "import pandas as pd\n",
        "import numpy as np\n",
        "\n",
        "# Visualização\n",
        "import seaborn as sns\n",
        "import matplotlib.pyplot as plt\n",
        "\n",
        "from scipy import stats\n",
        "from statsmodels.stats.power import TTestIndPower\n",
        "from statsmodels.stats.proportion import proportions_ztest\n",
        "\n",
        "# Configurações estéticas para os gráficos\n",
        "sns.set_style(\"whitegrid\")\n",
        "plt.rcParams[\"figure.figsize\"] = (10, 6)\n",
        "\n"
      ]
    },
    {
      "cell_type": "markdown",
      "metadata": {},
      "source": [
        "#### 📁 Visualização Inicial\n",
        "\n",
        "Nesta etapa, vamos observar as primeiras linhas do dataset para entender sua estrutura, as colunas disponíveis e o formato dos dados.\n",
        "\n",
        "Nosso objetivo aqui é ter uma visão geral antes de qualquer limpeza ou tratamento."
      ]
    },
    {
      "cell_type": "markdown",
      "metadata": {},
      "source": [
        "💻 Código"
      ]
    },
    {
      "cell_type": "code",
      "execution_count": null,
      "metadata": {},
      "outputs": [],
      "source": [
        "url_1 = \"\" \n",
        "url_2 = \"\"\n",
        "\n",
        "df_car = \n",
        "df_house = "
      ]
    },
    {
      "cell_type": "markdown",
      "metadata": {},
      "source": [
        "### 🧽  Verificação de Valores Ausentes e Duplicatas - Base 1\n",
        "\n",
        "Nesta etapa, vamos verificar se existem valores ausentes ou registros duplicados no dataset.\n",
        "\n",
        "Esses problemas podem impactar os resultados das análises estatísticas e visualizações, e devem ser tratados ainda na fase de pré-processamento.\n",
        "\n",
        "**🧪 Código – Diagnóstico**"
      ]
    },
    {
      "cell_type": "markdown",
      "metadata": {},
      "source": []
    },
    {
      "cell_type": "code",
      "execution_count": null,
      "metadata": {},
      "outputs": [],
      "source": [
        "# Verificar valores ausentes\n",
        "print(\"🔍 Valores ausentes por coluna:\")\n",
        "print(df_suplementos.isnull().sum())\n",
        "\n",
        "# Verificar registros duplicados\n",
        "duplicatas = df_suplementos.duplicated().sum()\n",
        "print(f\"\\n📦 Registros duplicados encontrados: {duplicatas}\")"
      ]
    },
    {
      "cell_type": "markdown",
      "metadata": {},
      "source": [
        "### 🔧 Padronização de Colunas e Tipos de Dados\n",
        "\n",
        "Nesta etapa, vamos:\n",
        "- Padronizar os nomes das colunas para facilitar a manipulação (ex: letras minúsculas, sem espaços)\n",
        "- Garantir que as variáveis estejam nos **tipos corretos**:\n",
        "\n",
        "**💻 Código – Padronização**"
      ]
    },
    {
      "cell_type": "code",
      "execution_count": null,
      "metadata": {},
      "outputs": [],
      "source": [
        "# Verificando escrita das do id produto para evitar contabilização incorreta\n",
        "df_suplementos['id_produto'].unique()"
      ]
    },
    {
      "cell_type": "code",
      "execution_count": null,
      "metadata": {},
      "outputs": [],
      "source": [
        "# Padronizar nomes das colunas\n",
        "df_suplementos.columns = df_suplementos.columns.str.lower().str.strip()\n",
        "\n",
        "# Converter colunas numéricas\n",
        "col_numericas = ['ganho_massa', 'idade', 'frequencia_treino']\n",
        "df_suplementos[col_numericas] = df_suplementos[col_numericas].apply(pd.to_numeric, errors='coerce')\n",
        "\n",
        "# Garantir que id_produto seja categórico\n",
        "df_suplementos['id_produto'] = df_suplementos['id_produto'].astype('category')\n",
        "\n",
        "# Verificar os tipos atualizados\n",
        "df_suplementos.dtypes"
      ]
    },
    {
      "cell_type": "markdown",
      "metadata": {},
      "source": [
        "### 📊 Visualização Geral das Variáveis\n",
        "\n",
        "Agora que os dados estão limpos e padronizados, vamos criar gráficos para observar a distribuição das variáveis principais:\n",
        "\n",
        "Vamos usar:\n",
        "- **Histogramas** para ver a distribuição\n",
        "- **Boxplots** para detectar possíveis outliers\n",
        "\n",
        "**💻 Código – Histogramas e Boxplots**"
      ]
    },
    {
      "cell_type": "code",
      "execution_count": null,
      "metadata": {},
      "outputs": [],
      "source": [
        "# Criar subplots para visualização lado a lado\n",
        "fig, axes = plt.subplots(2, 3, figsize=(18, 10))\n",
        "\n",
        "# Histogramas\n",
        "sns.histplot(df_suplementos['ganho_massa'], bins=20, kde=True, ax=axes[0, 0], color='skyblue')\n",
        "axes[0, 0].set_title(\"Distribuição do Ganho de Massa (kg)\")\n",
        "\n",
        "sns.histplot(df_suplementos['idade'], bins=20, kde=True, ax=axes[0, 1], color='lightgreen')\n",
        "axes[0, 1].set_title(\"Distribuição da Idade\")\n",
        "\n",
        "sns.histplot(df_suplementos['frequencia_treino'], bins=7, discrete=True, ax=axes[0, 2], color='salmon')\n",
        "axes[0, 2].set_title(\"Frequência de Treino (dias/semana)\")\n",
        "\n",
        "# Boxplots\n",
        "sns.boxplot(y=df_suplementos['ganho_massa'], ax=axes[1, 0], color='skyblue')\n",
        "axes[1, 0].set_title(\"Boxplot – Ganho de Massa\")\n",
        "\n",
        "sns.boxplot(y=df_suplementos['idade'], ax=axes[1, 1], color='lightgreen')\n",
        "axes[1, 1].set_title(\"Boxplot – Idade\")\n",
        "\n",
        "sns.boxplot(y=df_suplementos['frequencia_treino'], ax=axes[1, 2], color='salmon')\n",
        "axes[1, 2].set_title(\"Boxplot – Frequência de Treino\")\n",
        "\n",
        "# Ajuste final\n",
        "plt.tight_layout()\n",
        "plt.show()"
      ]
    },
    {
      "cell_type": "markdown",
      "metadata": {},
      "source": [
        "### 🧽  Verificação de Valores Ausentes e Duplicatas - Base 2\n",
        "\n",
        "Nesta etapa, vamos verificar se existem valores ausentes ou registros duplicados no dataset.\n",
        "\n",
        "Esses problemas podem impactar os resultados das análises estatísticas e visualizações, e devem ser tratados ainda na fase de pré-processamento.\n",
        "\n",
        "**🧪 Código – Diagnóstico**"
      ]
    },
    {
      "cell_type": "code",
      "execution_count": null,
      "metadata": {},
      "outputs": [],
      "source": [
        "# Verificar valores ausentes\n",
        "print(\"🔍 Valores ausentes por coluna:\")\n",
        "print(df_suplementos.isnull().sum())\n",
        "\n",
        "# Verificar registros duplicados\n",
        "duplicatas = df_suplementos.duplicated().sum()\n",
        "print(f\"\\n📦 Registros duplicados encontrados: {duplicatas}\")"
      ]
    },
    {
      "cell_type": "markdown",
      "metadata": {},
      "source": [
        "### 🔧 Padronização de Colunas e Tipos de Dados - Base 2\n",
        "\n",
        "Nesta etapa, vamos:\n",
        "- Padronizar os nomes das colunas para facilitar a manipulação (ex: letras minúsculas, sem espaços)\n",
        "- Garantir que as variáveis estejam nos **tipos corretos**:\n",
        "\n",
        "**💻 Código – Padronização**"
      ]
    },
    {
      "cell_type": "code",
      "execution_count": null,
      "metadata": {},
      "outputs": [],
      "source": [
        "# Verificando escrita das do id produto para evitar contabilização incorreta\n",
        "df_suplementos['id_produto'].unique()"
      ]
    },
    {
      "cell_type": "code",
      "execution_count": null,
      "metadata": {},
      "outputs": [],
      "source": [
        "# Padronizar nomes das colunas\n",
        "df_suplementos.columns = df_suplementos.columns.str.lower().str.strip()\n",
        "\n",
        "# Converter colunas numéricas\n",
        "col_numericas = ['ganho_massa', 'idade', 'frequencia_treino']\n",
        "df_suplementos[col_numericas] = df_suplementos[col_numericas].apply(pd.to_numeric, errors='coerce')\n",
        "\n",
        "# Garantir que id_produto seja categórico\n",
        "df_suplementos['id_produto'] = df_suplementos['id_produto'].astype('category')\n",
        "\n",
        "# Verificar os tipos atualizados\n",
        "df_suplementos.dtypes"
      ]
    },
    {
      "cell_type": "markdown",
      "metadata": {},
      "source": [
        "### 📊 Visualização Geral das Variáveis - Base 2\n",
        "\n",
        "Agora que os dados estão limpos e padronizados, vamos criar gráficos para observar a distribuição das variáveis principais:\n",
        "\n",
        "Vamos usar:\n",
        "- **Histogramas** para ver a distribuição\n",
        "- **Boxplots** para detectar possíveis outliers\n",
        "\n",
        "**💻 Código – Histogramas e Boxplots**"
      ]
    },
    {
      "cell_type": "code",
      "execution_count": null,
      "metadata": {},
      "outputs": [],
      "source": [
        "# Criar subplots para visualização lado a lado\n",
        "fig, axes = plt.subplots(2, 3, figsize=(18, 10))\n",
        "\n",
        "# Histogramas\n",
        "sns.histplot(df_suplementos['ganho_massa'], bins=20, kde=True, ax=axes[0, 0], color='skyblue')\n",
        "axes[0, 0].set_title(\"Distribuição do Ganho de Massa (kg)\")\n",
        "\n",
        "sns.histplot(df_suplementos['idade'], bins=20, kde=True, ax=axes[0, 1], color='lightgreen')\n",
        "axes[0, 1].set_title(\"Distribuição da Idade\")\n",
        "\n",
        "sns.histplot(df_suplementos['frequencia_treino'], bins=7, discrete=True, ax=axes[0, 2], color='salmon')\n",
        "axes[0, 2].set_title(\"Frequência de Treino (dias/semana)\")\n",
        "\n",
        "# Boxplots\n",
        "sns.boxplot(y=df_suplementos['ganho_massa'], ax=axes[1, 0], color='skyblue')\n",
        "axes[1, 0].set_title(\"Boxplot – Ganho de Massa\")\n",
        "\n",
        "sns.boxplot(y=df_suplementos['idade'], ax=axes[1, 1], color='lightgreen')\n",
        "axes[1, 1].set_title(\"Boxplot – Idade\")\n",
        "\n",
        "sns.boxplot(y=df_suplementos['frequencia_treino'], ax=axes[1, 2], color='salmon')\n",
        "axes[1, 2].set_title(\"Boxplot – Frequência de Treino\")\n",
        "\n",
        "# Ajuste final\n",
        "plt.tight_layout()\n",
        "plt.show()"
      ]
    },
    {
      "cell_type": "markdown",
      "metadata": {},
      "source": [
        "Considerando a base de dados kc_house_data.csv responda as questões de 1\n",
        "a 6 abaixo:"
      ]
    },
    {
      "cell_type": "markdown",
      "metadata": {},
      "source": [
        "1. Codifique e exiba a matriz de correlação entre as variáveis numéricas.\n",
        "Além disso, qual é a correlação entre o preço price e o número de\n",
        "quartos bedrooms? Existe alguma diferença na correlação quando\n",
        "consideramos apenas casas com uma área total sqft_living superior a\n",
        "2000 pés quadrados?\n"
      ]
    },
    {
      "cell_type": "code",
      "execution_count": null,
      "metadata": {},
      "outputs": [],
      "source": []
    },
    {
      "cell_type": "markdown",
      "metadata": {},
      "source": [
        "2. Existe alguma correlação entre o preço price e a área total da casa\n",
        "sqft_living, considerando apenas casas com pelo menos dois\n",
        "banheiros bathrooms?"
      ]
    },
    {
      "cell_type": "code",
      "execution_count": null,
      "metadata": {},
      "outputs": [],
      "source": []
    },
    {
      "cell_type": "markdown",
      "metadata": {},
      "source": [
        "3. Como a quantidade de banheiros bathrooms influencia na correlação\n",
        "entre a área total da casa sqft_living e o preço price?"
      ]
    },
    {
      "cell_type": "code",
      "execution_count": null,
      "metadata": {},
      "outputs": [],
      "source": []
    },
    {
      "cell_type": "markdown",
      "metadata": {},
      "source": [
        "4. Qual é a relação entre a condição da casa condition e o preço price,\n",
        "considerando apenas casas com uma área total sqft_living superior a\n",
        "3000 pés quadrados?"
      ]
    },
    {
      "cell_type": "code",
      "execution_count": null,
      "metadata": {},
      "outputs": [],
      "source": []
    },
    {
      "cell_type": "markdown",
      "metadata": {},
      "source": [
        "5. Existe alguma correlação entre a localização geográfica lat e long e o\n",
        "preço price para casas com pelo menos três quartos bedrooms?\n"
      ]
    },
    {
      "cell_type": "code",
      "execution_count": null,
      "metadata": {},
      "outputs": [],
      "source": []
    },
    {
      "cell_type": "markdown",
      "metadata": {},
      "source": [
        "6. preço price para casas com pelo menos três quartos bedrooms?\n",
        "Calcule a correlação entre uma variável categórica(waterfront) e uma\n",
        "variável numérica(price) usando ANOVA."
      ]
    },
    {
      "cell_type": "code",
      "execution_count": null,
      "metadata": {},
      "outputs": [],
      "source": []
    },
    {
      "cell_type": "markdown",
      "metadata": {},
      "source": [
        "Considerando a base de dados car_price.csv responda as questões de 7 a 11\n",
        "abaixo:\n"
      ]
    },
    {
      "cell_type": "markdown",
      "metadata": {},
      "source": [
        "7. Codifique e exiba a Matriz de correlação para as variáveis numéricas e\n",
        "dê exemplos de correlações positivas, negativas e neutras."
      ]
    },
    {
      "cell_type": "code",
      "execution_count": null,
      "metadata": {},
      "outputs": [],
      "source": []
    },
    {
      "cell_type": "markdown",
      "metadata": {},
      "source": [
        "8. Codifique e exiba Gráficos de Dispersão para cada uma das variáveis\n",
        "numéricas em relação à variável de interesse Price."
      ]
    },
    {
      "cell_type": "code",
      "execution_count": null,
      "metadata": {},
      "outputs": [],
      "source": []
    },
    {
      "cell_type": "markdown",
      "metadata": {},
      "source": [
        "9. Crie um modelo de Regressão Linear Simples, exiba a Tabela de\n",
        "Regressão e exiba o plot da Reta Estimada."
      ]
    },
    {
      "cell_type": "code",
      "execution_count": null,
      "metadata": {},
      "outputs": [],
      "source": []
    },
    {
      "cell_type": "markdown",
      "metadata": {},
      "source": [
        "10. Codifique e exiba o gráfico dos resíduos do modelo de Regressão Simples."
      ]
    },
    {
      "cell_type": "code",
      "execution_count": null,
      "metadata": {},
      "outputs": [],
      "source": []
    },
    {
      "cell_type": "markdown",
      "metadata": {},
      "source": [
        "11. Crie um modelo de Regressão Multivariada, exiba a Tabela de Regressão\n",
        "e exiba o gráfico dos resíduos do modelo."
      ]
    },
    {
      "cell_type": "code",
      "execution_count": null,
      "metadata": {},
      "outputs": [],
      "source": []
    }
  ],
  "metadata": {
    "colab": {
      "provenance": []
    },
    "kernelspec": {
      "display_name": "Python 3",
      "name": "python3"
    },
    "language_info": {
      "codemirror_mode": {
        "name": "ipython",
        "version": 3
      },
      "file_extension": ".py",
      "mimetype": "text/x-python",
      "name": "python",
      "nbconvert_exporter": "python",
      "pygments_lexer": "ipython3",
      "version": "3.13.2"
    }
  },
  "nbformat": 4,
  "nbformat_minor": 0
}
