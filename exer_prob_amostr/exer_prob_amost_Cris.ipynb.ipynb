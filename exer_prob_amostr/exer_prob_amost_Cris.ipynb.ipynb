{
  "cells": [
    {
      "cell_type": "code",
      "execution_count": null,
      "metadata": {
        "id": "rkJOTyeP4YHI"
      },
      "outputs": [],
      "source": []
    },
    {
      "cell_type": "markdown",
      "metadata": {
        "id": "AokrM3vZ4iyH"
      },
      "source": [
        "#  Estatística\n",
        "### Exercício Individual Probabilidade e Amostragem "
      ]
    },
    {
      "cell_type": "code",
      "execution_count": 57,
      "metadata": {
        "id": "VuO_F3Mp6M04"
      },
      "outputs": [],
      "source": [
        "\n",
        "# Importando todas as bibliotecas utilizadas no desafio:\n",
        "# Manipulação de dados\n",
        "import pandas as pd\n",
        "import numpy as np\n",
        "\n",
        "# Visualização de dados\n",
        "import matplotlib.pyplot as plt\n",
        "import seaborn as sns\n",
        "\n",
        "# Estatística e testes de hipóteses\n",
        "from scipy.stats import norm\n"
      ]
    },
    {
      "cell_type": "code",
      "execution_count": 58,
      "metadata": {
        "colab": {
          "base_uri": "https://localhost:8080/"
        },
        "id": "3bAjv_MR6R9M",
        "outputId": "334e07f5-f896-43e3-f005-3a94c67cc3f5"
      },
      "outputs": [
        {
          "name": "stdout",
          "output_type": "stream",
          "text": [
            "   Unnamed: 0 estado  idade escolaridade nível de proficiência em inglês  \\\n",
            "0           0     MA     56  Fundamental                   Intermediário   \n",
            "1           1     BA     46     Superior                          Básico   \n",
            "2           2     AM     32  Fundamental                   Intermediário   \n",
            "3           3     CE     60     Superior                          Básico   \n",
            "4           4     SE     25  Fundamental                        Avançado   \n",
            "5           5     AM     38  Fundamental                        Avançado   \n",
            "6           6     DF     56        Médio                   Intermediário   \n",
            "7           7     DF     36     Superior                        Avançado   \n",
            "8           8     PI     40  Fundamental                          Básico   \n",
            "9           9     AP     28     Superior                        Avançado   \n",
            "\n",
            "     renda sexo  \n",
            "0  4006.29    F  \n",
            "1  2423.11    M  \n",
            "2  3835.69    M  \n",
            "3  1870.29    M  \n",
            "4  3529.80    M  \n",
            "5  4441.57    F  \n",
            "6   528.36    F  \n",
            "7  2203.10    F  \n",
            "8  3577.07    F  \n",
            "9  2796.95    M  \n"
          ]
        }
      ],
      "source": [
        "\n",
        "\n",
        "url = 'https://raw.githubusercontent.com/CristianaMoura/Desafios_Individuais_DadosWomakersCode/main/exer_prob_amostr/populacao_brasileira.csv'\n",
        "df = pd.read_csv(url)\n",
        "\n",
        "print(df.head(10))\n",
        "\n"
      ]
    },
    {
      "cell_type": "markdown",
      "metadata": {
        "id": "0ncWs6Qr43yP"
      },
      "source": [
        "1.  Considere  pessoas  fluentes  em  inglês, qual a\n",
        "    probabilidade complementar?\n",
        "    Ou seja, qual a probabilidade de escolhermos uma pessoa aleatória e ela não ser fluente em inglês. Considere fluente quem tem o nível avançado.\n",
        "\n",
        "\n"
      ]
    },
    {
      "cell_type": "code",
      "execution_count": 59,
      "metadata": {
        "colab": {
          "base_uri": "https://localhost:8080/"
        },
        "id": "4W3kvAF_K5BZ",
        "outputId": "d2fae761-4716-44ce-874a-00846665d935"
      },
      "outputs": [
        {
          "name": "stdout",
          "output_type": "stream",
          "text": [
            "344\n",
            "656\n",
            "A probabilidade é % 65.6 da pessoa escolhida não ser fluente.\n"
          ]
        }
      ],
      "source": [
        "df_fluente = df[df['nível de proficiência em inglês'] == 'Avançado'].shape[0]\n",
        "print(df_fluente)\n",
        "\n",
        "df_nao_fluente = df[df['nível de proficiência em inglês'] != 'Avançado'].shape[0]\n",
        "print(df_nao_fluente)\n",
        "\n",
        "probabilidade = df_nao_fluente / (df_fluente + df_nao_fluente)*100\n",
        "\n",
        "print(f\"A probabilidade é % {probabilidade:.1f} da pessoa escolhida não ser fluente.\")"
      ]
    },
    {
      "cell_type": "markdown",
      "metadata": {
        "id": "WOERn19K5GoE"
      },
      "source": [
        "2 - Se uma pessoa escolhida aleatoriamente for de Alagoas ou do Pará, qual é a probabilidade de ela ter uma renda superior a 5 mil reais?"
      ]
    },
    {
      "cell_type": "code",
      "execution_count": 60,
      "metadata": {
        "colab": {
          "base_uri": "https://localhost:8080/"
        },
        "id": "j6CIjGwh5ku4",
        "outputId": "6dbfcbb1-4797-427a-839f-819d95c172f7"
      },
      "outputs": [
        {
          "name": "stdout",
          "output_type": "stream",
          "text": [
            "79\n",
            "4\n",
            "A probabilidade é % 5.1 da pessoa escolhida ter a renda acima de 5 mil Reais.\n"
          ]
        }
      ],
      "source": [
        "total_pessoas = len(df)\n",
        "\n",
        "df_estados = df[df[\"estado\"].isin([\"AL\", \"PA\"])]\n",
        "total_estados = len(df_estados)\n",
        "print(total_estados)\n",
        "\n",
        "renda_acima = df_estados[df_estados[\"renda\"] > 5000].shape[0]\n",
        "print(renda_acima)\n",
        "\n",
        "prob_renda_estados = (renda_acima / total_estados) *100\n",
        "\n",
        "\n",
        "print(f\"A probabilidade é % {prob_renda_estados:.1f} da pessoa escolhida ter a renda acima de 5 mil Reais.\")\n"
      ]
    },
    {
      "cell_type": "markdown",
      "metadata": {
        "id": "OJk794by5M67"
      },
      "source": [
        "3 - Descubra a probabilidade de uma pessoa, residente\n",
        "  no estado do Amazonas, ter ensino superior completo (considerando apenas a escolaridade classificada como 'Superior'). Qual a probabilidade da quinta pessoa amazonense que você conversar ter ensino superior completo?\n"
      ]
    },
    {
      "cell_type": "code",
      "execution_count": 61,
      "metadata": {
        "colab": {
          "base_uri": "https://localhost:8080/"
        },
        "id": "fTuUKtw45lZd",
        "outputId": "1cf25bca-d1d9-4a70-d310-ed69e68afd96"
      },
      "outputs": [
        {
          "name": "stdout",
          "output_type": "stream",
          "text": [
            "38\n",
            "9\n",
            "A probabilidade é % 23.7 da quinta pessoa escolhida ter ensino superior.\n"
          ]
        }
      ],
      "source": [
        "df_estado = df[df[\"estado\"] == \"AM\"]\n",
        "total_estado = len(df_estado)\n",
        "print(total_estado)\n",
        "\n",
        "df_superior = df_estado[df_estado[\"escolaridade\"] == \"Superior\"]\n",
        "total_superior = len(df_superior)\n",
        "print(total_superior)\n",
        "\n",
        "\n",
        "\n",
        "prob_superior = (total_superior / total_estado) *100\n",
        "\n",
        "print(f\"A probabilidade é % {prob_superior:.1f} da quinta pessoa escolhida ter ensino superior.\")\n",
        "\n"
      ]
    },
    {
      "cell_type": "markdown",
      "metadata": {
        "id": "TOPaO5NP5Whk"
      },
      "source": [
        "4. Considerando a renda das pessoas do nosso conjunto, podemos dizerque a renda de uma pessoa brasileira está na sua maioria em que faixa(faça faixa de 1.500 reais)? Qual é a sua função densidade de probabilidade?\n"
      ]
    },
    {
      "cell_type": "code",
      "execution_count": 62,
      "metadata": {
        "colab": {
          "base_uri": "https://localhost:8080/",
          "height": 211
        },
        "id": "DM6rorvV5mGG",
        "outputId": "73f2cc78-96fe-4ff5-be7f-a7a3fa2a6c6c"
      },
      "outputs": [
        {
          "name": "stdout",
          "output_type": "stream",
          "text": [
            "A faixa de renda mais comum é: (3000.0, 4500.0]\n"
          ]
        }
      ],
      "source": [
        "# Criar faixas de renda de 1.500 em 1.500\n",
        "df['faixa_renda'] = pd.cut(df['renda'], bins=np.arange(0, df['renda'].max() + 1500, 1500))\n",
        "\n",
        "# Contar quantas pessoas estão em cada faixa\n",
        "faixa_mais_comum = df['faixa_renda'].value_counts().idxmax()\n",
        "\n",
        "print(f'A faixa de renda mais comum é: {faixa_mais_comum}')\n"
      ]
    },
    {
      "cell_type": "markdown",
      "metadata": {
        "id": "87kAwTf45ZM0"
      },
      "source": [
        "5. Calcule a média e a variância da renda da amostra. Depois faça adistribuição normal, inclua o gráfico.\n"
      ]
    },
    {
      "cell_type": "code",
      "execution_count": 63,
      "metadata": {
        "colab": {
          "base_uri": "https://localhost:8080/",
          "height": 472
        },
        "id": "54TP1F0D5mke",
        "outputId": "f6ee167d-3aa9-4696-946f-77c9d54c0d50"
      },
      "outputs": [
        {
          "name": "stdout",
          "output_type": "stream",
          "text": [
            "Média da renda: R$ 3082.54\n",
            "Variância da renda: 993156.23\n"
          ]
        }
      ],
      "source": [
        "# Calcular média e variância da renda\n",
        "media_renda = df['renda'].mean()\n",
        "variancia_renda = df['renda'].var()\n",
        "\n",
        "print(f'Média da renda: R$ {media_renda:.2f}')\n",
        "print(f'Variância da renda: {variancia_renda:.2f}')"
      ]
    },
    {
      "cell_type": "code",
      "execution_count": 64,
      "metadata": {},
      "outputs": [
        {
          "data": {
            "image/png": "[encoded data removed]",
            "text/plain": [
              "<Figure size 1000x500 with 1 Axes>"
            ]
          },
          "metadata": {},
          "output_type": "display_data"
        }
      ],
      "source": [
        "# Calcular desvio padrão\n",
        "desvio_padrao_renda = np.sqrt(variancia_renda)\n",
        "\n",
        "# Criar valores para o eixo X (renda)\n",
        "x = np.linspace(df['renda'].min(), df['renda'].max(), 100)\n",
        "\n",
        "# Criar a distribuição normal teórica\n",
        "pdf = norm.pdf(x, media_renda, desvio_padrao_renda)\n",
        "\n",
        "# Criar o gráfico\n",
        "plt.figure(figsize=(10,5))\n",
        "\n",
        "# Plotar a densidade real da renda\n",
        "sns.kdeplot(df['renda'], fill=True, label='Densidade real')\n",
        "\n",
        "# Plotar a distribuição normal teórica\n",
        "plt.plot(x, pdf, label='Distribuição Normal', color='green', linestyle='dashed')\n",
        "\n",
        "# Ajustes do gráfico\n",
        "plt.xlabel('Renda (R$)')\n",
        "plt.ylabel('Densidade')\n",
        "plt.title('Distribuição Normal da Renda')\n",
        "plt.legend()\n",
        "plt.grid(True)\n",
        "plt.show()"
      ]
    },
    {
      "cell_type": "markdown",
      "metadata": {
        "id": "wO768MtU5btV"
      },
      "source": [
        "6.  Primeiro  considere  a  probabilidade  encontrada  no  nosso  conjunto  depessoas com escolaridade de pós-graduação. Considerando a amostra depopulação brasileira com 1 milhão de habitantes, qual a probabilidade deencontrarmos 243 mil pessoas com pós-graduação?\n"
      ]
    },
    {
      "cell_type": "code",
      "execution_count": 65,
      "metadata": {
        "id": "Wntm2hZG5ncH"
      },
      "outputs": [
        {
          "name": "stdout",
          "output_type": "stream",
          "text": [
            "Probabilidade de encontrar exatamente 243 mil pessoas com pós-graduação: 0.00\n"
          ]
        }
      ],
      "source": [
        "\n",
        "from scipy.stats import binom\n",
        "\n",
        "# Calcular a proporção de pessoas com pós-graduação na amostra\n",
        "p = len(df[df['escolaridade'] == 'Pós-Graduação']) / len(df)\n",
        "\n",
        "# Definir os valores do problema\n",
        "n = 1_000_000  # População de 1 milhão\n",
        "k = 243_000  # Queremos encontrar 243 mil pessoas com pós-graduação\n",
        "\n",
        "# Calcular a probabilidade usando a distribuição binomial\n",
        "prob = binom.pmf(k, n, p)\n",
        "\n",
        "print(f'Probabilidade de encontrar exatamente 243 mil pessoas com pós-graduação: {prob:.2f}')"
      ]
    },
    {
      "cell_type": "markdown",
      "metadata": {
        "id": "i1CoFqSl5oZk"
      },
      "source": [
        "7.  Somando  as  densidades  nós  temos  a  função   \n",
        "    de  densida  de  acumulada.Considerando  a  coluna  ‘Escolaridade’  faça  a  função  de  densidadeacumulada discreta para cada nível de escolaridade."
      ]
    },
    {
      "cell_type": "code",
      "execution_count": 66,
      "metadata": {
        "id": "UTxX9NCg5n5V"
      },
      "outputs": [
        {
          "name": "stdout",
          "output_type": "stream",
          "text": [
            "escolaridade\n",
            "Fundamental      0.266\n",
            "Médio            0.504\n",
            "Pós-graduação    0.757\n",
            "Superior         1.000\n",
            "Name: proportion, dtype: float64\n"
          ]
        },
        {
          "data": {
            "image/png": "[encoded data removed]",
            "text/plain": [
              "<Figure size 1000x500 with 1 Axes>"
            ]
          },
          "metadata": {},
          "output_type": "display_data"
        }
      ],
      "source": [
        "# Contar a frequência de cada escolaridade\n",
        "freq_escolaridade = df['escolaridade'].value_counts(normalize=True).sort_index() #value_counts(normalize=True) → Obtém a frequência relativa de cada escolaridade.sort_index() → Ordena os níveis de escolaridade.\n",
        "\n",
        "# Calcular a densidade acumulada\n",
        "cdf_escolaridade = freq_escolaridade.cumsum() #cumsum() → Calcula a soma acumulada para obter a CDF.\n",
        "\n",
        "# Exibir a CDF\n",
        "print(cdf_escolaridade)\n",
        "\n",
        "# Plotar a CDF\n",
        "plt.figure(figsize=(10,5))\n",
        "plt.step(cdf_escolaridade.index, cdf_escolaridade, where='mid', linestyle='-', marker='o', color='b', label='CDF') #Gráfico plt.step() → Representa a CDF discreta, já que os dados são categóricos.\n",
        "\n",
        "# Ajustes no gráfico\n",
        "plt.xlabel('Nível de Escolaridade')\n",
        "plt.ylabel('Probabilidade Acumulada')\n",
        "plt.title('Função de Densidade Acumulada (CDF) - Escolaridade')\n",
        "plt.xticks(rotation=45)\n",
        "plt.legend()\n",
        "plt.grid(True)\n",
        "plt.show()"
      ]
    },
    {
      "cell_type": "markdown",
      "metadata": {
        "id": "DN2wh1xS5ijo"
      },
      "source": [
        "8.  Qual  a  margem  de  erro  amostral  da   \n",
        "    proporção  populacionalconsiderando a proporção de pessoas com nível de inglês intermediário?"
      ]
    },
    {
      "cell_type": "code",
      "execution_count": 67,
      "metadata": {
        "id": "8HeR81na55-u"
      },
      "outputs": [
        {
          "name": "stdout",
          "output_type": "stream",
          "text": [
            "Margem de erro amostral: 0.0291\n"
          ]
        }
      ],
      "source": [
        "# Calcular a proporção de pessoas com nível de inglês intermediário\n",
        "p = len(df[df['nível de proficiência em inglês'] == 'Intermediário']) / len(df)\n",
        "\n",
        "# Tamanho da amostra\n",
        "n = len(df)\n",
        "\n",
        "# Valor crítico para um intervalo de confiança de 95%\n",
        "z = norm.ppf(0.975)  # 1.96 aproximadamente\n",
        "\n",
        "# Calcular a margem de erro\n",
        "margem_erro = z * np.sqrt((p * (1 - p)) / n)\n",
        "\n",
        "print(f'Margem de erro amostral: {margem_erro:.4f}')"
      ]
    },
    {
      "cell_type": "markdown",
      "metadata": {
        "id": "RmvZGzgK5J7o"
      },
      "source": [
        "9. Calcula a renda da população. Qual a probabilidade\n",
        "   de encontrar 60pessoas com uma renda mil reais superior à média?"
      ]
    },
    {
      "cell_type": "code",
      "execution_count": 68,
      "metadata": {
        "id": "mLwnx1k_6ABl"
      },
      "outputs": [
        {
          "name": "stdout",
          "output_type": "stream",
          "text": [
            "Probabilidade de encontrar exatamente 60 pessoas com renda > 4082.54: 0.0000000000\n"
          ]
        }
      ],
      "source": [
        "# Calcular a média da renda\n",
        "media_renda = df['renda'].mean()\n",
        "\n",
        "# Definir o limite superior (média + 1000)\n",
        "limite_superior = media_renda + 1000\n",
        "\n",
        "# Calcular a proporção de pessoas com renda maior que o limite\n",
        "p = len(df[df['renda'] > limite_superior]) / len(df)\n",
        "\n",
        "# Definir parâmetros da binomial\n",
        "n = len(df)  # Tamanho da amostra\n",
        "k = 60  # Número de pessoas que queremos encontrar\n",
        "\n",
        "# Calcular a probabilidade de encontrar exatamente 60 pessoas com essa renda\n",
        "prob_60 = binom.pmf(k, n, p)\n",
        "\n",
        "print(f'Probabilidade de encontrar exatamente 60 pessoas com renda > {limite_superior:.2f}: {prob_60:.10f}')\n"
      ]
    },
    {
      "cell_type": "markdown",
      "metadata": {
        "id": "doUQwWru6A2S"
      },
      "source": [
        "10. Qual é a probabilidade de escolhermos uma pessoa\n",
        "    residente na regiãoSudeste  que  seja  homem,  tenha  apenas  ensino  fundamental  completo  epossua renda mensal superior a 2 mil reais?"
      ]
    },
    {
      "cell_type": "code",
      "execution_count": 70,
      "metadata": {},
      "outputs": [
        {
          "name": "stdout",
          "output_type": "stream",
          "text": [
            "  estado    região\n",
            "0     MA  Nordeste\n",
            "1     BA  Nordeste\n",
            "2     AM     Norte\n",
            "3     CE  Nordeste\n",
            "4     SE  Nordeste\n"
          ]
        }
      ],
      "source": [
        "# Dicionário de estados e suas respectivas regiões\n",
        "regioes = {\n",
        "    'AC': 'Norte', 'AP': 'Norte', 'AM': 'Norte', 'PA': 'Norte', 'RO': 'Norte', 'RR': 'Norte', 'TO': 'Norte',\n",
        "    'AL': 'Nordeste', 'BA': 'Nordeste', 'CE': 'Nordeste', 'MA': 'Nordeste', 'PB': 'Nordeste', 'PE': 'Nordeste',\n",
        "    'PI': 'Nordeste', 'RN': 'Nordeste', 'SE': 'Nordeste',\n",
        "    'DF': 'Centro-Oeste', 'GO': 'Centro-Oeste', 'MT': 'Centro-Oeste', 'MS': 'Centro-Oeste',\n",
        "    'ES': 'Sudeste', 'MG': 'Sudeste', 'RJ': 'Sudeste', 'SP': 'Sudeste',\n",
        "    'PR': 'Sul', 'RS': 'Sul', 'SC': 'Sul'\n",
        "}\n",
        "\n",
        "# Carregar o dataset\n",
        "df = pd.read_csv(url)\n",
        "\n",
        "# Criar a nova coluna \"região\" baseada na coluna \"estado\" Usar o método .map() do pandas para criar uma nova coluna chamada \"região\"\n",
        "df['região'] = df['estado'].map(regioes)\n",
        "\n",
        "# Exibir as primeiras linhas para verificar\n",
        "print(df[['estado', 'região']].head())"
      ]
    },
    {
      "cell_type": "code",
      "execution_count": 71,
      "metadata": {
        "id": "EA7Wk_tY6FjF"
      },
      "outputs": [
        {
          "name": "stdout",
          "output_type": "stream",
          "text": [
            "Probabilidade de encontrar uma pessoa com essas características: 1.90%\n"
          ]
        }
      ],
      "source": [
        "# Filtrar os critérios\n",
        "filtro = (\n",
        "    (df['região'] == 'Sudeste') &\n",
        "    (df['sexo'] == 'M') &\n",
        "    (df['escolaridade'] == 'Fundamental') &\n",
        "    (df['renda'] > 2000)\n",
        ")\n",
        "\n",
        "# Contar quantas pessoas atendem aos critérios\n",
        "num_pessoas = df[filtro].shape[0]\n",
        "\n",
        "# Calcular a probabilidade (proporção na amostra)\n",
        "probabilidade = num_pessoas / len(df)*100\n",
        "\n",
        "print(f'Probabilidade de encontrar uma pessoa com essas características: {probabilidade:.2f}%')\n",
        "\n"
      ]
    }
  ],
  "metadata": {
    "colab": {
      "provenance": []
    },
    "kernelspec": {
      "display_name": "Python 3",
      "name": "python3"
    },
    "language_info": {
      "codemirror_mode": {
        "name": "ipython",
        "version": 3
      },
      "file_extension": ".py",
      "mimetype": "text/x-python",
      "name": "python",
      "nbconvert_exporter": "python",
      "pygments_lexer": "ipython3",
      "version": "3.13.2"
    }
  },
  "nbformat": 4,
  "nbformat_minor": 0
}
